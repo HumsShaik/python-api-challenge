{
 "cells": [
  {
   "cell_type": "markdown",
   "metadata": {},
   "source": [
    "# WeatherPy\n",
    "----\n",
    "\n",
    "#### Note\n",
    "* Instructions have been included for each segment. You do not have to follow them exactly, but they are included to help you think through the steps."
   ]
  },
  {
   "cell_type": "code",
   "execution_count": 1,
   "metadata": {
    "scrolled": true
   },
   "outputs": [],
   "source": [
    "# Dependencies and Setup\n",
    "import matplotlib.pyplot as plt\n",
    "import pandas as pd\n",
    "import numpy as np\n",
    "import json\n",
    "import requests\n",
    "import time\n",
    "from scipy.stats import linregress\n",
    "\n",
    "# Import API key\n",
    "from api_keys import weather_api_key\n",
    "\n",
    "# Incorporated citipy to determine city based on latitude and longitude\n",
    "from citipy import citipy\n",
    "\n",
    "# Output File (CSV)\n",
    "output_data_file = \"output_data/cities.csv\"\n",
    "\n",
    "# Range of latitudes and longitudes\n",
    "lat_range = (-90, 90)\n",
    "lng_range = (-180, 180)"
   ]
  },
  {
   "cell_type": "markdown",
   "metadata": {},
   "source": [
    "## Generate Cities List"
   ]
  },
  {
   "cell_type": "code",
   "execution_count": 2,
   "metadata": {},
   "outputs": [
    {
     "data": {
      "text/plain": [
       "617"
      ]
     },
     "execution_count": 2,
     "metadata": {},
     "output_type": "execute_result"
    }
   ],
   "source": [
    "# List for holding lat_lngs and cities\n",
    "lat_lngs = []\n",
    "cities = []\n",
    "\n",
    "# Create a set of random lat and lng combinations\n",
    "lats = np.random.uniform(lat_range[0], lat_range[1], size=1500)\n",
    "lngs = np.random.uniform(lng_range[0], lng_range[1], size=1500)\n",
    "lat_lngs = zip(lats, lngs)\n",
    "\n",
    "# Identify nearest city for each lat, lng combination\n",
    "for lat_lng in lat_lngs:\n",
    "    city = citipy.nearest_city(lat_lng[0], lat_lng[1]).city_name\n",
    "    \n",
    "    # If the city is unique, then add it to a our cities list\n",
    "    if city not in cities:\n",
    "        cities.append(city)\n",
    "\n",
    "# Print the city count to confirm sufficient count\n",
    "len(cities)"
   ]
  },
  {
   "cell_type": "markdown",
   "metadata": {},
   "source": [
    "### Perform API Calls\n",
    "* Perform a weather check on each city using a series of successive API calls.\n",
    "* Include a print log of each city as it'sbeing processed (with the city number and city name).\n"
   ]
  },
  {
   "cell_type": "code",
   "execution_count": 3,
   "metadata": {},
   "outputs": [],
   "source": [
    "url = \"http://api.openweathermap.org/data/2.5/forecast?id=524901&APPID=\"\n",
    "target_url = url + weather_api_key\n",
    "#target_url"
   ]
  },
  {
   "cell_type": "code",
   "execution_count": 4,
   "metadata": {},
   "outputs": [],
   "source": [
    "weather_response = requests.get(target_url)\n",
    "weather_json = weather_response.json()\n",
    "#print(json.dumps(weather_json, indent=4, sort_keys=True))"
   ]
  },
  {
   "cell_type": "code",
   "execution_count": 5,
   "metadata": {},
   "outputs": [
    {
     "name": "stdout",
     "output_type": "stream",
     "text": [
      "Moscow\n"
     ]
    }
   ],
   "source": [
    "print(weather_json['city']['name'])"
   ]
  },
  {
   "cell_type": "code",
   "execution_count": 6,
   "metadata": {},
   "outputs": [
    {
     "name": "stdout",
     "output_type": "stream",
     "text": [
      "Processing record 1 of Set 1 | sosua\n",
      "Processing record 2 of Set 1 | luderitz\n",
      "Processing record 3 of Set 1 | tygda\n",
      "Processing record 4 of Set 1 | cape town\n",
      "Processing record 5 of Set 1 | bandarbeyla\n",
      "Processing record 6 of Set 1 | qaanaaq\n",
      "Processing record 7 of Set 1 | skeldon\n",
      "Processing record 8 of Set 1 | tual\n",
      "Processing record 9 of Set 1 | novoagansk\n",
      "Processing record 10 of Set 1 | zhigansk\n",
      "Record not found\n",
      "Processing record 11 of Set 1 | mount gambier\n",
      "Processing record 12 of Set 1 | mataura\n",
      "Processing record 13 of Set 1 | ponta do sol\n",
      "Processing record 14 of Set 1 | tura\n",
      "Processing record 15 of Set 1 | ahipara\n",
      "Record not found\n",
      "Processing record 16 of Set 1 | puerto baquerizo moreno\n",
      "Processing record 17 of Set 1 | griffith\n",
      "Processing record 18 of Set 1 | new norfolk\n",
      "Processing record 19 of Set 1 | saint-philippe\n",
      "Processing record 20 of Set 1 | rockland\n",
      "Processing record 21 of Set 1 | butaritari\n",
      "Processing record 22 of Set 1 | dikson\n",
      "Processing record 23 of Set 1 | atuona\n",
      "Processing record 24 of Set 1 | nikolskoye\n",
      "Processing record 25 of Set 1 | tuatapere\n",
      "Processing record 26 of Set 1 | punta arenas\n",
      "Record not found\n",
      "Processing record 27 of Set 1 | bambous virieux\n",
      "Processing record 28 of Set 1 | jamestown\n",
      "Processing record 29 of Set 1 | barrow\n",
      "Processing record 30 of Set 1 | husavik\n",
      "Processing record 31 of Set 1 | chuy\n",
      "Processing record 32 of Set 1 | eyl\n",
      "Processing record 33 of Set 1 | busselton\n",
      "Processing record 34 of Set 1 | arraial do cabo\n",
      "Processing record 35 of Set 1 | najran\n",
      "Processing record 36 of Set 1 | nerchinsk\n",
      "Processing record 37 of Set 1 | falmouth\n",
      "Record not found\n",
      "Processing record 38 of Set 1 | lixourion\n",
      "Processing record 39 of Set 1 | westport\n",
      "Processing record 40 of Set 1 | ulverstone\n",
      "Processing record 41 of Set 1 | kapaa\n",
      "Processing record 42 of Set 1 | xihe\n",
      "Processing record 43 of Set 1 | dolzhanskaya\n",
      "Processing record 44 of Set 1 | saint-pierre\n",
      "Processing record 45 of Set 1 | henties bay\n",
      "Record not found\n",
      "Processing record 46 of Set 1 | ornskoldsvik\n",
      "Processing record 47 of Set 1 | makakilo city\n",
      "Processing record 48 of Set 1 | souillac\n",
      "Processing record 49 of Set 1 | felipe carrillo puerto\n",
      "Processing record 50 of Set 1 | cervo\n",
      "Processing record 51 of Set 1 | dawei\n",
      "Processing record 52 of Set 1 | manggar\n",
      "Processing record 53 of Set 1 | ushuaia\n",
      "Processing record 54 of Set 1 | rikitea\n",
      "Processing record 55 of Set 1 | clyde river\n",
      "Processing record 56 of Set 1 | cockburn town\n",
      "Processing record 57 of Set 1 | bredasdorp\n",
      "Processing record 58 of Set 1 | hilo\n",
      "Processing record 59 of Set 1 | manakara\n",
      "Processing record 60 of Set 1 | kaupanger\n",
      "Processing record 61 of Set 1 | litovko\n",
      "Processing record 62 of Set 1 | kumbo\n",
      "Processing record 63 of Set 1 | puerto ayora\n",
      "Processing record 64 of Set 1 | yongan\n",
      "Processing record 65 of Set 1 | bluff\n",
      "Processing record 66 of Set 1 | carnarvon\n",
      "Processing record 67 of Set 1 | port elizabeth\n",
      "Processing record 68 of Set 1 | wilmington\n",
      "Processing record 69 of Set 1 | avarua\n",
      "Processing record 70 of Set 1 | pangnirtung\n",
      "Processing record 71 of Set 1 | wagar\n",
      "Processing record 72 of Set 1 | hermanus\n",
      "Processing record 73 of Set 1 | bethel\n",
      "Processing record 74 of Set 1 | pampas\n",
      "Record not found\n",
      "Processing record 75 of Set 1 | leningradskiy\n",
      "Processing record 76 of Set 1 | klaksvik\n",
      "Processing record 77 of Set 1 | porto santo\n",
      "Processing record 78 of Set 1 | norman wells\n",
      "Processing record 79 of Set 1 | emerald\n",
      "Record not found\n",
      "Processing record 80 of Set 1 | albany\n",
      "Processing record 81 of Set 1 | cidreira\n",
      "Processing record 82 of Set 1 | estelle\n",
      "Processing record 83 of Set 1 | olafsvik\n",
      "Processing record 84 of Set 1 | yulara\n",
      "Record not found\n",
      "Processing record 85 of Set 1 | sundumbili\n",
      "Processing record 86 of Set 1 | emporia\n",
      "Record not found\n",
      "Processing record 87 of Set 1 | saint george\n",
      "Processing record 88 of Set 1 | plettenberg bay\n",
      "Processing record 89 of Set 1 | manyana\n",
      "Processing record 90 of Set 1 | sarkand\n",
      "Processing record 91 of Set 1 | avera\n",
      "Processing record 92 of Set 1 | bhainsdehi\n",
      "Record not found\n",
      "Processing record 93 of Set 1 | turukhansk\n",
      "Processing record 94 of Set 1 | odessa\n",
      "Processing record 95 of Set 1 | huty\n",
      "Processing record 96 of Set 1 | ayacucho\n",
      "Processing record 97 of Set 1 | auki\n",
      "Processing record 98 of Set 1 | lorengau\n",
      "Processing record 99 of Set 1 | maniitsoq\n",
      "Processing record 100 of Set 1 | mar del plata\n",
      "Processing record 101 of Set 1 | guerrero negro\n",
      "Processing record 102 of Set 1 | vestmannaeyjar\n",
      "Processing record 103 of Set 1 | thompson\n",
      "Record not found\n",
      "Processing record 104 of Set 1 | thinadhoo\n",
      "Processing record 105 of Set 1 | khatanga\n",
      "Processing record 106 of Set 1 | belyy yar\n",
      "Processing record 107 of Set 1 | saldanha\n",
      "Processing record 108 of Set 1 | east london\n",
      "Processing record 109 of Set 1 | joshimath\n",
      "Processing record 110 of Set 1 | sao filipe\n",
      "Processing record 111 of Set 1 | namibe\n",
      "Processing record 112 of Set 1 | lebu\n",
      "Processing record 113 of Set 1 | calabar\n",
      "Processing record 114 of Set 1 | ibra\n",
      "Processing record 115 of Set 1 | georgetown\n",
      "Processing record 116 of Set 1 | namatanai\n",
      "Processing record 117 of Set 1 | bjornevatn\n",
      "Processing record 118 of Set 1 | laguna\n",
      "Processing record 119 of Set 1 | biak\n",
      "Processing record 120 of Set 1 | fairbanks\n",
      "Processing record 121 of Set 1 | touros\n",
      "Processing record 122 of Set 1 | castro\n",
      "Processing record 123 of Set 1 | impfondo\n",
      "Record not found\n",
      "Processing record 124 of Set 1 | pisco\n",
      "Processing record 125 of Set 1 | vaini\n",
      "Processing record 126 of Set 1 | tasiilaq\n",
      "Processing record 127 of Set 1 | qiqihar\n",
      "Processing record 128 of Set 1 | margate\n",
      "Processing record 129 of Set 1 | kuusamo\n",
      "Processing record 130 of Set 1 | sakakah\n",
      "Processing record 131 of Set 1 | iqaluit\n",
      "Processing record 132 of Set 1 | onega\n",
      "Processing record 133 of Set 1 | sept-iles\n",
      "Processing record 134 of Set 1 | juan lacaze\n",
      "Processing record 135 of Set 1 | vila franca do campo\n",
      "Processing record 136 of Set 1 | port alfred\n",
      "Processing record 137 of Set 1 | lazaro cardenas\n",
      "Processing record 138 of Set 1 | krasnoselkup\n",
      "Processing record 139 of Set 1 | camacha\n",
      "Processing record 140 of Set 1 | zhezkazgan\n",
      "Processing record 141 of Set 1 | albacete\n",
      "Processing record 142 of Set 1 | naryan-mar\n",
      "Processing record 143 of Set 1 | lobito\n",
      "Processing record 144 of Set 1 | bielsk podlaski\n",
      "Processing record 145 of Set 1 | kalemie\n",
      "Processing record 146 of Set 1 | chokurdakh\n",
      "Processing record 147 of Set 1 | majene\n",
      "Processing record 148 of Set 1 | tiksi\n",
      "Processing record 149 of Set 1 | upernavik\n",
      "Processing record 150 of Set 1 | belaya gora\n",
      "Processing record 151 of Set 1 | san patricio\n",
      "Processing record 152 of Set 1 | port lincoln\n",
      "Processing record 153 of Set 1 | hobart\n",
      "Processing record 154 of Set 1 | palauig\n",
      "Processing record 155 of Set 1 | itarema\n",
      "Processing record 156 of Set 1 | birjand\n",
      "Processing record 157 of Set 1 | brae\n",
      "Record not found\n",
      "Processing record 158 of Set 1 | nabire\n",
      "Processing record 159 of Set 1 | erzin\n",
      "Processing record 160 of Set 1 | trincomalee\n",
      "Processing record 161 of Set 1 | jalu\n",
      "Record not found\n",
      "Processing record 162 of Set 1 | comodoro rivadavia\n",
      "Processing record 163 of Set 1 | atambua\n",
      "Processing record 164 of Set 1 | farafangana\n",
      "Processing record 165 of Set 1 | honningsvag\n",
      "Processing record 166 of Set 1 | ulaanbaatar\n",
      "Processing record 167 of Set 1 | pevek\n",
      "Processing record 168 of Set 1 | kaitangata\n",
      "Processing record 169 of Set 1 | haines junction\n",
      "Processing record 170 of Set 1 | naze\n",
      "Processing record 171 of Set 1 | geraldton\n",
      "Processing record 172 of Set 1 | pochutla\n",
      "Processing record 173 of Set 1 | tuktoyaktuk\n",
      "Processing record 174 of Set 1 | puerto leguizamo\n",
      "Record not found\n",
      "Processing record 175 of Set 1 | iralaya\n",
      "Processing record 176 of Set 1 | general roca\n",
      "Processing record 177 of Set 1 | fredericksburg\n",
      "Processing record 178 of Set 1 | vredendal\n",
      "Processing record 179 of Set 1 | mantena\n",
      "Record not found\n",
      "Processing record 180 of Set 1 | biltine\n",
      "Processing record 181 of Set 1 | yellowknife\n",
      "Processing record 182 of Set 1 | necochea\n",
      "Processing record 183 of Set 1 | yuncheng\n",
      "Processing record 184 of Set 1 | vardo\n",
      "Processing record 185 of Set 1 | balabac\n",
      "Processing record 186 of Set 1 | gigmoto\n",
      "Processing record 187 of Set 1 | hofn\n",
      "Processing record 188 of Set 1 | maebaru\n",
      "Record not found\n"
     ]
    },
    {
     "name": "stdout",
     "output_type": "stream",
     "text": [
      "Processing record 189 of Set 1 | flin flon\n",
      "Processing record 190 of Set 1 | shimoda\n",
      "Processing record 191 of Set 1 | jefferson city\n",
      "Record not found\n",
      "Processing record 192 of Set 1 | ust-nera\n",
      "Processing record 193 of Set 1 | mahebourg\n",
      "Processing record 194 of Set 1 | la peca\n",
      "Processing record 195 of Set 1 | pangai\n",
      "Processing record 196 of Set 1 | jumla\n",
      "Processing record 197 of Set 1 | meulaboh\n",
      "Record not found\n",
      "Processing record 198 of Set 1 | cedar city\n",
      "Processing record 199 of Set 1 | cabedelo\n",
      "Processing record 200 of Set 1 | deputatskiy\n",
      "Processing record 201 of Set 1 | mitsamiouli\n",
      "Processing record 202 of Set 1 | almaznyy\n",
      "Processing record 203 of Set 1 | ancud\n",
      "Processing record 204 of Set 1 | dunedin\n",
      "Processing record 205 of Set 1 | lompoc\n",
      "Processing record 206 of Set 1 | sao miguel do araguaia\n",
      "Processing record 207 of Set 1 | coos bay\n",
      "Processing record 208 of Set 1 | athabasca\n",
      "Processing record 209 of Set 1 | torbay\n",
      "Processing record 210 of Set 1 | gua musang\n",
      "Processing record 211 of Set 1 | alofi\n",
      "Record not found\n",
      "Processing record 212 of Set 1 | hithadhoo\n",
      "Processing record 213 of Set 1 | severnoye\n",
      "Processing record 214 of Set 1 | kruisfontein\n",
      "Processing record 215 of Set 1 | skegness\n",
      "Processing record 216 of Set 1 | high level\n",
      "Processing record 217 of Set 1 | concepcion\n",
      "Processing record 218 of Set 1 | faanui\n",
      "Processing record 219 of Set 1 | paamiut\n",
      "Processing record 220 of Set 1 | buin\n",
      "Record not found\n",
      "Processing record 221 of Set 1 | loandjili\n",
      "Processing record 222 of Set 1 | eufaula\n",
      "Processing record 223 of Set 1 | tomatlan\n",
      "Record not found\n",
      "Processing record 224 of Set 1 | longyearbyen\n",
      "Record not found\n",
      "Processing record 225 of Set 1 | baghdad\n",
      "Processing record 226 of Set 1 | broken hill\n",
      "Processing record 227 of Set 1 | tarut\n",
      "Processing record 228 of Set 1 | nong han\n",
      "Processing record 229 of Set 1 | frontera\n",
      "Processing record 230 of Set 1 | ilulissat\n",
      "Record not found\n",
      "Processing record 231 of Set 1 | hami\n",
      "Processing record 232 of Set 1 | morondava\n",
      "Processing record 233 of Set 1 | udachnyy\n",
      "Processing record 234 of Set 1 | college\n",
      "Processing record 235 of Set 1 | chingirlau\n",
      "Processing record 236 of Set 1 | laval\n",
      "Processing record 237 of Set 1 | lincoln\n",
      "Processing record 238 of Set 1 | acarau\n",
      "Processing record 239 of Set 1 | aykhal\n",
      "Processing record 240 of Set 1 | porto novo\n",
      "Processing record 241 of Set 1 | dmitrovsk-orlovskiy\n",
      "Processing record 242 of Set 1 | pangoa\n",
      "Processing record 243 of Set 1 | high rock\n",
      "Processing record 244 of Set 1 | nelson bay\n",
      "Processing record 245 of Set 1 | ushtobe\n",
      "Processing record 246 of Set 1 | mackay\n",
      "Processing record 247 of Set 1 | chapais\n",
      "Record not found\n",
      "Processing record 248 of Set 1 | twin falls\n",
      "Record not found\n",
      "Processing record 249 of Set 1 | el alto\n",
      "Processing record 250 of Set 1 | weligama\n",
      "Processing record 251 of Set 1 | rocha\n",
      "Processing record 252 of Set 1 | vestmanna\n",
      "Processing record 253 of Set 1 | mao\n",
      "Processing record 254 of Set 1 | ekhabi\n",
      "Processing record 255 of Set 1 | vyborg\n",
      "Processing record 256 of Set 1 | tambura\n",
      "Processing record 257 of Set 1 | ponta delgada\n",
      "Processing record 258 of Set 1 | hirara\n",
      "Record not found\n",
      "Processing record 259 of Set 1 | tautira\n",
      "Processing record 260 of Set 1 | kenora\n",
      "Processing record 261 of Set 1 | mnogovershinnyy\n",
      "Processing record 262 of Set 1 | aasiaat\n",
      "Processing record 263 of Set 1 | severo-kurilsk\n",
      "Processing record 264 of Set 1 | kavieng\n",
      "Processing record 265 of Set 1 | aksarka\n",
      "Processing record 266 of Set 1 | shu\n",
      "Processing record 267 of Set 1 | grindavik\n",
      "Processing record 268 of Set 1 | lata\n",
      "Processing record 269 of Set 1 | havoysund\n",
      "Processing record 270 of Set 1 | iberia\n",
      "Processing record 271 of Set 1 | izhma\n",
      "Record not found\n",
      "Processing record 272 of Set 1 | tiarei\n",
      "Processing record 273 of Set 1 | great falls\n",
      "Processing record 274 of Set 1 | fort-shevchenko\n",
      "Processing record 275 of Set 1 | hasaki\n",
      "Processing record 276 of Set 1 | kutum\n",
      "Processing record 277 of Set 1 | coquimbo\n",
      "Processing record 278 of Set 1 | puri\n",
      "Processing record 279 of Set 1 | cam ranh\n",
      "Processing record 280 of Set 1 | damietta\n",
      "Processing record 281 of Set 1 | aripuana\n",
      "Processing record 282 of Set 1 | lagoa\n",
      "Processing record 283 of Set 1 | quatre cocos\n",
      "Processing record 284 of Set 1 | kieta\n",
      "Processing record 285 of Set 1 | kalmunai\n",
      "Processing record 286 of Set 1 | winchester\n",
      "Processing record 287 of Set 1 | asau\n",
      "Processing record 288 of Set 1 | praya\n",
      "Processing record 289 of Set 1 | narsaq\n",
      "Processing record 290 of Set 1 | cherskiy\n",
      "Processing record 291 of Set 1 | huarmey\n",
      "Processing record 292 of Set 1 | lasa\n",
      "Processing record 293 of Set 1 | vanimo\n",
      "Processing record 294 of Set 1 | dovers\n",
      "Processing record 295 of Set 1 | victoria\n",
      "Processing record 296 of Set 1 | coihaique\n",
      "Processing record 297 of Set 1 | talnakh\n",
      "Processing record 298 of Set 1 | arkhipo-osipovka\n",
      "Processing record 299 of Set 1 | pringsewu\n",
      "Processing record 300 of Set 1 | angoche\n",
      "Processing record 301 of Set 1 | mount darwin\n",
      "Processing record 302 of Set 1 | rancho palos verdes\n",
      "Processing record 303 of Set 1 | tsarychanka\n",
      "Processing record 304 of Set 1 | tahta\n",
      "Processing record 305 of Set 1 | maceio\n",
      "Processing record 306 of Set 1 | riyadh\n",
      "Processing record 307 of Set 1 | utrecht\n",
      "Processing record 308 of Set 1 | hibbing\n",
      "Processing record 309 of Set 1 | berlevag\n",
      "Processing record 310 of Set 1 | sorong\n",
      "Processing record 311 of Set 1 | cua\n",
      "Processing record 312 of Set 1 | myitkyina\n",
      "Processing record 313 of Set 1 | boffa\n",
      "Processing record 314 of Set 1 | la ronge\n",
      "Record not found\n",
      "Processing record 315 of Set 1 | kazachinskoye\n",
      "Processing record 316 of Set 1 | gaogou\n",
      "Processing record 317 of Set 1 | tooele\n",
      "Processing record 318 of Set 1 | sitka\n",
      "Processing record 319 of Set 1 | usinsk\n",
      "Processing record 320 of Set 1 | simao\n",
      "Processing record 321 of Set 1 | pavlodar\n",
      "Processing record 322 of Set 1 | merauke\n",
      "Processing record 323 of Set 1 | dzilam gonzalez\n",
      "Processing record 324 of Set 1 | kirakira\n",
      "Processing record 325 of Set 1 | nemuro\n",
      "Processing record 326 of Set 1 | waipawa\n",
      "Processing record 327 of Set 1 | sisian\n",
      "Processing record 328 of Set 1 | havre-saint-pierre\n",
      "Processing record 329 of Set 1 | constitucion\n",
      "Processing record 330 of Set 1 | storm lake\n",
      "Processing record 331 of Set 1 | gouyave\n",
      "Processing record 332 of Set 1 | emirdag\n",
      "Processing record 333 of Set 1 | kodiak\n",
      "Processing record 334 of Set 1 | kodino\n",
      "Processing record 335 of Set 1 | talcahuano\n",
      "Record not found\n",
      "Processing record 336 of Set 1 | sorland\n",
      "Processing record 337 of Set 1 | codrington\n",
      "Processing record 338 of Set 1 | rafai\n",
      "Processing record 339 of Set 1 | west odessa\n",
      "Processing record 340 of Set 1 | safford\n",
      "Processing record 341 of Set 1 | brainerd\n",
      "Processing record 342 of Set 1 | nuuk\n",
      "Processing record 343 of Set 1 | alice springs\n",
      "Processing record 344 of Set 1 | phan thiet\n",
      "Processing record 345 of Set 1 | tazovskiy\n",
      "Processing record 346 of Set 1 | loa janan\n",
      "Processing record 347 of Set 1 | belmonte\n",
      "Processing record 348 of Set 1 | nadym\n",
      "Processing record 349 of Set 1 | san cristobal\n",
      "Processing record 350 of Set 1 | agadez\n",
      "Processing record 351 of Set 1 | flagstaff\n",
      "Processing record 352 of Set 1 | pontianak\n",
      "Processing record 353 of Set 1 | sibenik\n",
      "Processing record 354 of Set 1 | antalaha\n",
      "Processing record 355 of Set 1 | marzuq\n",
      "Processing record 356 of Set 1 | marawi\n",
      "Processing record 357 of Set 1 | taoudenni\n",
      "Processing record 358 of Set 1 | rundu\n",
      "Processing record 359 of Set 1 | baykit\n",
      "Processing record 360 of Set 1 | kaabong\n",
      "Processing record 361 of Set 1 | tessalit\n",
      "Processing record 362 of Set 1 | san juan de los morros\n",
      "Processing record 363 of Set 1 | quelimane\n",
      "Processing record 364 of Set 1 | mumford\n",
      "Processing record 365 of Set 1 | lillooet\n",
      "Processing record 366 of Set 1 | darnah\n",
      "Processing record 367 of Set 1 | svetlogorsk\n",
      "Processing record 368 of Set 1 | denpasar\n",
      "Processing record 369 of Set 1 | viedma\n",
      "Processing record 370 of Set 1 | homorod\n",
      "Record not found\n",
      "Processing record 371 of Set 1 | nsanje\n",
      "Processing record 372 of Set 1 | ostrovnoy\n",
      "Processing record 373 of Set 1 | vostok\n",
      "Processing record 374 of Set 1 | miles city\n",
      "Processing record 375 of Set 1 | calamar\n",
      "Processing record 376 of Set 1 | isangel\n",
      "Processing record 377 of Set 1 | fortuna\n",
      "Processing record 378 of Set 1 | kahului\n"
     ]
    },
    {
     "name": "stdout",
     "output_type": "stream",
     "text": [
      "Processing record 379 of Set 1 | sidney\n",
      "Processing record 380 of Set 1 | piacabucu\n",
      "Processing record 381 of Set 1 | bengkulu\n",
      "Processing record 382 of Set 1 | airai\n",
      "Processing record 383 of Set 1 | vaitape\n",
      "Processing record 384 of Set 1 | salalah\n",
      "Processing record 385 of Set 1 | bonnyville\n",
      "Processing record 386 of Set 1 | saskylakh\n",
      "Processing record 387 of Set 1 | dekar\n",
      "Processing record 388 of Set 1 | guilin\n",
      "Processing record 389 of Set 1 | simpang\n",
      "Processing record 390 of Set 1 | lima\n",
      "Processing record 391 of Set 1 | somerset\n",
      "Processing record 392 of Set 1 | hastings\n",
      "Processing record 393 of Set 1 | khani\n",
      "Processing record 394 of Set 1 | shakawe\n",
      "Processing record 395 of Set 1 | xining\n",
      "Processing record 396 of Set 1 | noumea\n",
      "Processing record 397 of Set 1 | george town\n",
      "Processing record 398 of Set 1 | port hedland\n",
      "Processing record 399 of Set 1 | bom jesus\n",
      "Processing record 400 of Set 1 | faya\n",
      "Processing record 401 of Set 1 | sangar\n",
      "Processing record 402 of Set 1 | srednekolymsk\n",
      "Record not found\n",
      "Processing record 403 of Set 1 | tigil\n",
      "Processing record 404 of Set 1 | manavalakurichi\n",
      "Processing record 405 of Set 1 | sur\n",
      "Processing record 406 of Set 1 | edd\n",
      "Processing record 407 of Set 1 | vila velha\n",
      "Processing record 408 of Set 1 | saint-augustin\n",
      "Processing record 409 of Set 1 | morant bay\n",
      "Processing record 410 of Set 1 | sheridan\n",
      "Processing record 411 of Set 1 | goundam\n",
      "Processing record 412 of Set 1 | provideniya\n",
      "Processing record 413 of Set 1 | manaure\n",
      "Processing record 414 of Set 1 | khandyga\n",
      "Processing record 415 of Set 1 | hailar\n",
      "Record not found\n",
      "Processing record 416 of Set 1 | katsuura\n",
      "Processing record 417 of Set 1 | caravelas\n",
      "Processing record 418 of Set 1 | capleni\n",
      "Processing record 419 of Set 1 | izhevskoye\n",
      "Processing record 420 of Set 1 | tynda\n",
      "Processing record 421 of Set 1 | conceicao do araguaia\n",
      "Processing record 422 of Set 1 | hobyo\n",
      "Processing record 423 of Set 1 | sambava\n",
      "Processing record 424 of Set 1 | yar-sale\n",
      "Processing record 425 of Set 1 | banjarmasin\n",
      "Processing record 426 of Set 1 | sesimbra\n",
      "Processing record 427 of Set 1 | byron bay\n",
      "Processing record 428 of Set 1 | ladybrand\n",
      "Processing record 429 of Set 1 | loiza\n",
      "Processing record 430 of Set 1 | belfast\n",
      "Processing record 431 of Set 1 | gizo\n",
      "Processing record 432 of Set 1 | burriana\n",
      "Processing record 433 of Set 1 | half moon bay\n",
      "Processing record 434 of Set 1 | manta\n",
      "Processing record 435 of Set 1 | ostersund\n",
      "Processing record 436 of Set 1 | strzegom\n",
      "Processing record 437 of Set 1 | mount vernon\n",
      "Processing record 438 of Set 1 | launceston\n",
      "Processing record 439 of Set 1 | timra\n",
      "Processing record 440 of Set 1 | inirida\n",
      "Processing record 441 of Set 1 | balykshi\n",
      "Processing record 442 of Set 1 | amapa\n",
      "Processing record 443 of Set 1 | lusambo\n",
      "Processing record 444 of Set 1 | bend\n",
      "Processing record 445 of Set 1 | shenjiamen\n",
      "Processing record 446 of Set 1 | krasnopillya\n",
      "Processing record 447 of Set 1 | rawlins\n",
      "Processing record 448 of Set 1 | rosignano marittimo\n",
      "Record not found\n",
      "Processing record 449 of Set 1 | los llanos de aridane\n",
      "Processing record 450 of Set 1 | immenstadt\n",
      "Processing record 451 of Set 1 | ubinskoye\n",
      "Processing record 452 of Set 1 | harper\n",
      "Processing record 453 of Set 1 | north bend\n",
      "Processing record 454 of Set 1 | dongsheng\n",
      "Processing record 455 of Set 1 | teacapan\n",
      "Processing record 456 of Set 1 | maple creek\n",
      "Processing record 457 of Set 1 | praia\n",
      "Processing record 458 of Set 1 | sola\n",
      "Processing record 459 of Set 1 | misratah\n",
      "Processing record 460 of Set 1 | gwadar\n",
      "Processing record 461 of Set 1 | mayor pablo lagerenza\n",
      "Processing record 462 of Set 1 | padang\n",
      "Record not found\n",
      "Processing record 463 of Set 1 | aklavik\n",
      "Record not found\n",
      "Processing record 464 of Set 1 | portland\n",
      "Processing record 465 of Set 1 | ingham\n",
      "Processing record 466 of Set 1 | tucuma\n",
      "Processing record 467 of Set 1 | caconda\n",
      "Processing record 468 of Set 1 | xunchang\n",
      "Processing record 469 of Set 1 | ribeira grande\n",
      "Processing record 470 of Set 1 | ponta grossa\n",
      "Processing record 471 of Set 1 | nanortalik\n",
      "Processing record 472 of Set 1 | richards bay\n",
      "Record not found\n",
      "Processing record 473 of Set 1 | sunndalsora\n",
      "Processing record 474 of Set 1 | mecca\n",
      "Processing record 475 of Set 1 | vryburg\n",
      "Processing record 476 of Set 1 | shache\n",
      "Processing record 477 of Set 1 | marquette\n",
      "Processing record 478 of Set 1 | urumqi\n",
      "Processing record 479 of Set 1 | baruun-urt\n",
      "Processing record 480 of Set 1 | inyonga\n",
      "Processing record 481 of Set 1 | xuddur\n",
      "Processing record 482 of Set 1 | eau claire\n",
      "Processing record 483 of Set 1 | chengde\n",
      "Processing record 484 of Set 1 | goderich\n",
      "Processing record 485 of Set 1 | yarada\n",
      "Processing record 486 of Set 1 | mugumu\n",
      "Processing record 487 of Set 1 | trairi\n",
      "Processing record 488 of Set 1 | togur\n",
      "Processing record 489 of Set 1 | tezu\n",
      "Processing record 490 of Set 1 | ryotsu\n",
      "Processing record 491 of Set 1 | nola\n",
      "Processing record 492 of Set 1 | colac\n",
      "Processing record 493 of Set 1 | iringa\n",
      "Processing record 494 of Set 1 | palafrugell\n",
      "Processing record 495 of Set 1 | mpanda\n",
      "Processing record 496 of Set 1 | cayenne\n",
      "Processing record 497 of Set 1 | bilma\n",
      "Processing record 498 of Set 1 | shebalino\n",
      "Processing record 499 of Set 1 | kirovsk\n",
      "Processing record 500 of Set 1 | iracoubo\n",
      "Processing record 501 of Set 1 | charters towers\n",
      "Processing record 502 of Set 1 | inhambane\n",
      "Processing record 503 of Set 1 | ozernovskiy\n",
      "Processing record 504 of Set 1 | abong mbang\n",
      "Processing record 505 of Set 1 | inuvik\n",
      "Processing record 506 of Set 1 | kaniama\n",
      "Processing record 507 of Set 1 | dingle\n",
      "Processing record 508 of Set 1 | taraza\n",
      "Processing record 509 of Set 1 | eganville\n",
      "Processing record 510 of Set 1 | guiberoua\n",
      "Processing record 511 of Set 1 | copiapo\n",
      "Processing record 512 of Set 1 | evensk\n",
      "Processing record 513 of Set 1 | nome\n",
      "Processing record 514 of Set 1 | parintins\n",
      "Processing record 515 of Set 1 | lavrentiya\n",
      "Processing record 516 of Set 1 | sakaraha\n",
      "Processing record 517 of Set 1 | tucuman\n",
      "Processing record 518 of Set 1 | manicore\n",
      "Processing record 519 of Set 1 | vao\n",
      "Processing record 520 of Set 1 | zhangye\n",
      "Processing record 521 of Set 1 | japura\n",
      "Processing record 522 of Set 1 | marigot\n",
      "Processing record 523 of Set 1 | gobabis\n",
      "Processing record 524 of Set 1 | sunland park\n",
      "Processing record 525 of Set 1 | spornoye\n",
      "Processing record 526 of Set 1 | pacific grove\n",
      "Processing record 527 of Set 1 | esna\n",
      "Processing record 528 of Set 1 | usolye-sibirskoye\n",
      "Record not found\n",
      "Processing record 529 of Set 1 | sacama\n",
      "Processing record 530 of Set 1 | mbigou\n",
      "Processing record 531 of Set 1 | sumenep\n",
      "Processing record 532 of Set 1 | sibu\n",
      "Processing record 533 of Set 1 | waterloo\n",
      "Processing record 534 of Set 1 | samarkand\n",
      "Processing record 535 of Set 1 | boden\n",
      "Processing record 536 of Set 1 | costinesti\n",
      "Record not found\n",
      "Processing record 537 of Set 1 | baixa grande\n",
      "Processing record 538 of Set 1 | nuevo casas grandes\n",
      "Processing record 539 of Set 1 | broome\n",
      "Processing record 540 of Set 1 | elizabeth city\n",
      "Processing record 541 of Set 1 | north branch\n",
      "Processing record 542 of Set 1 | andros town\n",
      "Processing record 543 of Set 1 | bathsheba\n",
      "Processing record 544 of Set 1 | lasem\n",
      "Processing record 545 of Set 1 | hambantota\n",
      "Processing record 546 of Set 1 | canals\n",
      "Processing record 547 of Set 1 | rawson\n",
      "Processing record 548 of Set 1 | yinchuan\n",
      "Processing record 549 of Set 1 | guajara\n",
      "Processing record 550 of Set 1 | ligayan\n",
      "Processing record 551 of Set 1 | roebourne\n",
      "Processing record 552 of Set 1 | labuhan\n",
      "Processing record 553 of Set 1 | port-cartier\n",
      "Processing record 554 of Set 1 | zykovo\n",
      "Processing record 555 of Set 1 | yuanping\n",
      "Processing record 556 of Set 1 | kita\n",
      "Processing record 557 of Set 1 | nicoya\n",
      "Processing record 558 of Set 1 | machico\n",
      "Processing record 559 of Set 1 | plouzane\n",
      "Processing record 560 of Set 1 | alappuzha\n",
      "Processing record 561 of Set 1 | madina\n",
      "Processing record 562 of Set 1 | gravina in puglia\n",
      "Processing record 563 of Set 1 | drovyanaya\n",
      "Processing record 564 of Set 1 | conchal\n",
      "Record not found\n",
      "Record not found\n",
      "Processing record 565 of Set 1 | da nang\n",
      "Processing record 566 of Set 1 | bowen\n",
      "Processing record 567 of Set 1 | akropong\n",
      "Processing record 568 of Set 1 | soe\n",
      "Processing record 569 of Set 1 | anadyr\n"
     ]
    },
    {
     "name": "stdout",
     "output_type": "stream",
     "text": [
      "Processing record 570 of Set 1 | tecoanapa\n",
      "Processing record 571 of Set 1 | kargasok\n",
      "Processing record 572 of Set 1 | esperance\n",
      "Processing record 573 of Set 1 | fenoarivo\n",
      "Processing record 574 of Set 1 | jijiga\n",
      "Processing record 575 of Set 1 | taltal\n",
      "Processing record 576 of Set 1 | nueva concepcion\n"
     ]
    }
   ],
   "source": [
    "cityname = []\n",
    "cloudiness = []\n",
    "country = []\n",
    "date = []\n",
    "humidity = []\n",
    "lat = []\n",
    "lng = []\n",
    "max_temp = []\n",
    "wind_speed = []\n",
    "count = 0\n",
    "\n",
    "#  response = requests.get(query_url + city).json()\n",
    "    \n",
    "# Loop through the list of cities and perform a request for data on each\n",
    "\n",
    "for city in cities:\n",
    "    weather_response = requests.get(target_url + \"&q=\" + city + \"&units=Imperial\")\n",
    "    weather_json = weather_response.json()\n",
    "    try:\n",
    "        cityname.append(weather_json['city']['name'])\n",
    "        cloudiness.append(weather_json['list'][0]['clouds']['all'])\n",
    "        country.append(weather_json['city']['country'])\n",
    "        date.append(weather_json['list'][0]['dt'])\n",
    "        humidity.append(weather_json['list'][0]['main']['humidity'])\n",
    "        lat.append(weather_json['city']['coord']['lat'])\n",
    "        lng.append(weather_json['city']['coord']['lon'])\n",
    "        max_temp.append(weather_json['list'][0]['main']['temp_max'])\n",
    "        wind_speed.append(weather_json['list'][0]['wind']['speed'])\n",
    "        count = count + 1\n",
    "        print(f\"Processing record {count} of Set 1 | {city}\")\n",
    "    except:\n",
    "        print(\"Record not found\") \n",
    "        pass"
   ]
  },
  {
   "cell_type": "code",
   "execution_count": 7,
   "metadata": {},
   "outputs": [
    {
     "data": {
      "text/html": [
       "<div>\n",
       "<style scoped>\n",
       "    .dataframe tbody tr th:only-of-type {\n",
       "        vertical-align: middle;\n",
       "    }\n",
       "\n",
       "    .dataframe tbody tr th {\n",
       "        vertical-align: top;\n",
       "    }\n",
       "\n",
       "    .dataframe thead th {\n",
       "        text-align: right;\n",
       "    }\n",
       "</style>\n",
       "<table border=\"1\" class=\"dataframe\">\n",
       "  <thead>\n",
       "    <tr style=\"text-align: right;\">\n",
       "      <th></th>\n",
       "      <th>City</th>\n",
       "      <th>Latitude</th>\n",
       "      <th>Longitude</th>\n",
       "      <th>Max Temp</th>\n",
       "      <th>Humidity</th>\n",
       "      <th>Cloudiness</th>\n",
       "      <th>Wind Speed</th>\n",
       "      <th>Country</th>\n",
       "      <th>Date</th>\n",
       "    </tr>\n",
       "  </thead>\n",
       "  <tbody>\n",
       "    <tr>\n",
       "      <th>0</th>\n",
       "      <td>El Batey</td>\n",
       "      <td>19.7667</td>\n",
       "      <td>-70.5167</td>\n",
       "      <td>76.05</td>\n",
       "      <td>83</td>\n",
       "      <td>39</td>\n",
       "      <td>10.67</td>\n",
       "      <td>DO</td>\n",
       "      <td>1613271600</td>\n",
       "    </tr>\n",
       "    <tr>\n",
       "      <th>1</th>\n",
       "      <td>Lüderitz</td>\n",
       "      <td>-26.6481</td>\n",
       "      <td>15.1594</td>\n",
       "      <td>64.71</td>\n",
       "      <td>83</td>\n",
       "      <td>0</td>\n",
       "      <td>8.61</td>\n",
       "      <td>NA</td>\n",
       "      <td>1613271600</td>\n",
       "    </tr>\n",
       "    <tr>\n",
       "      <th>2</th>\n",
       "      <td>Tygda</td>\n",
       "      <td>53.1167</td>\n",
       "      <td>126.3333</td>\n",
       "      <td>-4.07</td>\n",
       "      <td>89</td>\n",
       "      <td>90</td>\n",
       "      <td>7.58</td>\n",
       "      <td>RU</td>\n",
       "      <td>1613271600</td>\n",
       "    </tr>\n",
       "    <tr>\n",
       "      <th>3</th>\n",
       "      <td>Cape Town</td>\n",
       "      <td>-33.9258</td>\n",
       "      <td>18.4232</td>\n",
       "      <td>67.32</td>\n",
       "      <td>91</td>\n",
       "      <td>57</td>\n",
       "      <td>7.70</td>\n",
       "      <td>ZA</td>\n",
       "      <td>1613271600</td>\n",
       "    </tr>\n",
       "    <tr>\n",
       "      <th>4</th>\n",
       "      <td>Bandarbeyla</td>\n",
       "      <td>9.4942</td>\n",
       "      <td>50.8122</td>\n",
       "      <td>72.46</td>\n",
       "      <td>77</td>\n",
       "      <td>27</td>\n",
       "      <td>10.92</td>\n",
       "      <td>SO</td>\n",
       "      <td>1613271600</td>\n",
       "    </tr>\n",
       "  </tbody>\n",
       "</table>\n",
       "</div>"
      ],
      "text/plain": [
       "          City  Latitude  Longitude  Max Temp  Humidity  Cloudiness  \\\n",
       "0     El Batey   19.7667   -70.5167     76.05        83          39   \n",
       "1     Lüderitz  -26.6481    15.1594     64.71        83           0   \n",
       "2        Tygda   53.1167   126.3333     -4.07        89          90   \n",
       "3    Cape Town  -33.9258    18.4232     67.32        91          57   \n",
       "4  Bandarbeyla    9.4942    50.8122     72.46        77          27   \n",
       "\n",
       "   Wind Speed Country        Date  \n",
       "0       10.67      DO  1613271600  \n",
       "1        8.61      NA  1613271600  \n",
       "2        7.58      RU  1613271600  \n",
       "3        7.70      ZA  1613271600  \n",
       "4       10.92      SO  1613271600  "
      ]
     },
     "execution_count": 7,
     "metadata": {},
     "output_type": "execute_result"
    }
   ],
   "source": [
    "weather_city = {\"City\": cityname,\"Latitude\": lat, \"Longitude\":lng,\n",
    "                \"Max Temp\":max_temp,\"Humidity\":humidity,\"Cloudiness\":cloudiness,\n",
    "                \"Wind Speed\":wind_speed,\"Country\":country, \"Date\":date}\n",
    "weather_df = pd.DataFrame(weather_city)\n",
    "weather_df.head()"
   ]
  },
  {
   "cell_type": "markdown",
   "metadata": {},
   "source": [
    "### Convert Raw Data to DataFrame\n",
    "* Export the city data into a .csv.\n",
    "* Display the DataFrame"
   ]
  },
  {
   "cell_type": "code",
   "execution_count": 8,
   "metadata": {},
   "outputs": [
    {
     "data": {
      "text/plain": [
       "576"
      ]
     },
     "execution_count": 8,
     "metadata": {},
     "output_type": "execute_result"
    }
   ],
   "source": [
    "weather_df.to_csv(r'output_data\\my_weather_data.csv')\n",
    "city_df = len(weather_df)\n",
    "city_df"
   ]
  },
  {
   "cell_type": "code",
   "execution_count": 9,
   "metadata": {},
   "outputs": [
    {
     "data": {
      "text/html": [
       "<div>\n",
       "<style scoped>\n",
       "    .dataframe tbody tr th:only-of-type {\n",
       "        vertical-align: middle;\n",
       "    }\n",
       "\n",
       "    .dataframe tbody tr th {\n",
       "        vertical-align: top;\n",
       "    }\n",
       "\n",
       "    .dataframe thead th {\n",
       "        text-align: right;\n",
       "    }\n",
       "</style>\n",
       "<table border=\"1\" class=\"dataframe\">\n",
       "  <thead>\n",
       "    <tr style=\"text-align: right;\">\n",
       "      <th></th>\n",
       "      <th>City</th>\n",
       "      <th>Latitude</th>\n",
       "      <th>Longitude</th>\n",
       "      <th>Max Temp</th>\n",
       "      <th>Humidity</th>\n",
       "      <th>Cloudiness</th>\n",
       "      <th>Wind Speed</th>\n",
       "      <th>Country</th>\n",
       "      <th>Date</th>\n",
       "    </tr>\n",
       "  </thead>\n",
       "  <tbody>\n",
       "    <tr>\n",
       "      <th>0</th>\n",
       "      <td>El Batey</td>\n",
       "      <td>19.7667</td>\n",
       "      <td>-70.5167</td>\n",
       "      <td>76.05</td>\n",
       "      <td>83</td>\n",
       "      <td>39</td>\n",
       "      <td>10.67</td>\n",
       "      <td>DO</td>\n",
       "      <td>1613271600</td>\n",
       "    </tr>\n",
       "    <tr>\n",
       "      <th>1</th>\n",
       "      <td>Lüderitz</td>\n",
       "      <td>-26.6481</td>\n",
       "      <td>15.1594</td>\n",
       "      <td>64.71</td>\n",
       "      <td>83</td>\n",
       "      <td>0</td>\n",
       "      <td>8.61</td>\n",
       "      <td>NA</td>\n",
       "      <td>1613271600</td>\n",
       "    </tr>\n",
       "    <tr>\n",
       "      <th>2</th>\n",
       "      <td>Tygda</td>\n",
       "      <td>53.1167</td>\n",
       "      <td>126.3333</td>\n",
       "      <td>-4.07</td>\n",
       "      <td>89</td>\n",
       "      <td>90</td>\n",
       "      <td>7.58</td>\n",
       "      <td>RU</td>\n",
       "      <td>1613271600</td>\n",
       "    </tr>\n",
       "    <tr>\n",
       "      <th>3</th>\n",
       "      <td>Cape Town</td>\n",
       "      <td>-33.9258</td>\n",
       "      <td>18.4232</td>\n",
       "      <td>67.32</td>\n",
       "      <td>91</td>\n",
       "      <td>57</td>\n",
       "      <td>7.70</td>\n",
       "      <td>ZA</td>\n",
       "      <td>1613271600</td>\n",
       "    </tr>\n",
       "    <tr>\n",
       "      <th>4</th>\n",
       "      <td>Bandarbeyla</td>\n",
       "      <td>9.4942</td>\n",
       "      <td>50.8122</td>\n",
       "      <td>72.46</td>\n",
       "      <td>77</td>\n",
       "      <td>27</td>\n",
       "      <td>10.92</td>\n",
       "      <td>SO</td>\n",
       "      <td>1613271600</td>\n",
       "    </tr>\n",
       "    <tr>\n",
       "      <th>...</th>\n",
       "      <td>...</td>\n",
       "      <td>...</td>\n",
       "      <td>...</td>\n",
       "      <td>...</td>\n",
       "      <td>...</td>\n",
       "      <td>...</td>\n",
       "      <td>...</td>\n",
       "      <td>...</td>\n",
       "      <td>...</td>\n",
       "    </tr>\n",
       "    <tr>\n",
       "      <th>571</th>\n",
       "      <td>Esperance</td>\n",
       "      <td>-33.8667</td>\n",
       "      <td>121.9000</td>\n",
       "      <td>77.23</td>\n",
       "      <td>62</td>\n",
       "      <td>44</td>\n",
       "      <td>10.69</td>\n",
       "      <td>AU</td>\n",
       "      <td>1613271600</td>\n",
       "    </tr>\n",
       "    <tr>\n",
       "      <th>572</th>\n",
       "      <td>Fenoarivo</td>\n",
       "      <td>-18.9330</td>\n",
       "      <td>47.4354</td>\n",
       "      <td>63.41</td>\n",
       "      <td>95</td>\n",
       "      <td>87</td>\n",
       "      <td>3.20</td>\n",
       "      <td>MG</td>\n",
       "      <td>1613271600</td>\n",
       "    </tr>\n",
       "    <tr>\n",
       "      <th>573</th>\n",
       "      <td>Jijiga</td>\n",
       "      <td>9.3500</td>\n",
       "      <td>42.8000</td>\n",
       "      <td>57.20</td>\n",
       "      <td>36</td>\n",
       "      <td>12</td>\n",
       "      <td>5.64</td>\n",
       "      <td>ET</td>\n",
       "      <td>1613271600</td>\n",
       "    </tr>\n",
       "    <tr>\n",
       "      <th>574</th>\n",
       "      <td>Taltal</td>\n",
       "      <td>-25.4000</td>\n",
       "      <td>-70.4833</td>\n",
       "      <td>67.30</td>\n",
       "      <td>71</td>\n",
       "      <td>9</td>\n",
       "      <td>5.26</td>\n",
       "      <td>CL</td>\n",
       "      <td>1613271600</td>\n",
       "    </tr>\n",
       "    <tr>\n",
       "      <th>575</th>\n",
       "      <td>Nueva Concepción</td>\n",
       "      <td>14.2000</td>\n",
       "      <td>-91.3000</td>\n",
       "      <td>78.89</td>\n",
       "      <td>74</td>\n",
       "      <td>10</td>\n",
       "      <td>5.44</td>\n",
       "      <td>GT</td>\n",
       "      <td>1613271600</td>\n",
       "    </tr>\n",
       "  </tbody>\n",
       "</table>\n",
       "<p>576 rows × 9 columns</p>\n",
       "</div>"
      ],
      "text/plain": [
       "                 City  Latitude  Longitude  Max Temp  Humidity  Cloudiness  \\\n",
       "0            El Batey   19.7667   -70.5167     76.05        83          39   \n",
       "1            Lüderitz  -26.6481    15.1594     64.71        83           0   \n",
       "2               Tygda   53.1167   126.3333     -4.07        89          90   \n",
       "3           Cape Town  -33.9258    18.4232     67.32        91          57   \n",
       "4         Bandarbeyla    9.4942    50.8122     72.46        77          27   \n",
       "..                ...       ...        ...       ...       ...         ...   \n",
       "571         Esperance  -33.8667   121.9000     77.23        62          44   \n",
       "572         Fenoarivo  -18.9330    47.4354     63.41        95          87   \n",
       "573            Jijiga    9.3500    42.8000     57.20        36          12   \n",
       "574            Taltal  -25.4000   -70.4833     67.30        71           9   \n",
       "575  Nueva Concepción   14.2000   -91.3000     78.89        74          10   \n",
       "\n",
       "     Wind Speed Country        Date  \n",
       "0         10.67      DO  1613271600  \n",
       "1          8.61      NA  1613271600  \n",
       "2          7.58      RU  1613271600  \n",
       "3          7.70      ZA  1613271600  \n",
       "4         10.92      SO  1613271600  \n",
       "..          ...     ...         ...  \n",
       "571       10.69      AU  1613271600  \n",
       "572        3.20      MG  1613271600  \n",
       "573        5.64      ET  1613271600  \n",
       "574        5.26      CL  1613271600  \n",
       "575        5.44      GT  1613271600  \n",
       "\n",
       "[576 rows x 9 columns]"
      ]
     },
     "execution_count": 9,
     "metadata": {},
     "output_type": "execute_result"
    }
   ],
   "source": [
    "weather_df"
   ]
  },
  {
   "cell_type": "markdown",
   "metadata": {},
   "source": [
    "## Inspect the data and remove the cities where the humidity > 100%.\n",
    "----\n",
    "Skip this step if there are no cities that have humidity > 100%. "
   ]
  },
  {
   "cell_type": "code",
   "execution_count": 10,
   "metadata": {},
   "outputs": [
    {
     "data": {
      "text/html": [
       "<div>\n",
       "<style scoped>\n",
       "    .dataframe tbody tr th:only-of-type {\n",
       "        vertical-align: middle;\n",
       "    }\n",
       "\n",
       "    .dataframe tbody tr th {\n",
       "        vertical-align: top;\n",
       "    }\n",
       "\n",
       "    .dataframe thead th {\n",
       "        text-align: right;\n",
       "    }\n",
       "</style>\n",
       "<table border=\"1\" class=\"dataframe\">\n",
       "  <thead>\n",
       "    <tr style=\"text-align: right;\">\n",
       "      <th></th>\n",
       "      <th>City</th>\n",
       "      <th>Latitude</th>\n",
       "      <th>Longitude</th>\n",
       "      <th>Max Temp</th>\n",
       "      <th>Humidity</th>\n",
       "      <th>Cloudiness</th>\n",
       "      <th>Wind Speed</th>\n",
       "      <th>Country</th>\n",
       "      <th>Date</th>\n",
       "    </tr>\n",
       "  </thead>\n",
       "  <tbody>\n",
       "  </tbody>\n",
       "</table>\n",
       "</div>"
      ],
      "text/plain": [
       "Empty DataFrame\n",
       "Columns: [City, Latitude, Longitude, Max Temp, Humidity, Cloudiness, Wind Speed, Country, Date]\n",
       "Index: []"
      ]
     },
     "execution_count": 10,
     "metadata": {},
     "output_type": "execute_result"
    }
   ],
   "source": [
    "city_weather_df = weather_df.loc[(weather_df[\"Humidity\"] > 100), :]\n",
    "city_weather_df = city_weather_df.dropna(how='any')\n",
    "city_weather_df.reset_index(inplace=False)\n",
    "city_weather_df"
   ]
  },
  {
   "cell_type": "markdown",
   "metadata": {},
   "source": [
    "## Plotting the Data\n",
    "* Use proper labeling of the plots using plot titles (including date of analysis) and axes labels.\n",
    "* Save the plotted figures as .pngs."
   ]
  },
  {
   "cell_type": "markdown",
   "metadata": {},
   "source": [
    "## Latitude vs. Temperature Plot"
   ]
  },
  {
   "cell_type": "code",
   "execution_count": 11,
   "metadata": {},
   "outputs": [
    {
     "data": {
      "image/png": "[encoded data removed]",
      "text/plain": [
       "<Figure size 432x288 with 1 Axes>"
      ]
     },
     "metadata": {
      "needs_background": "light"
     },
     "output_type": "display_data"
    }
   ],
   "source": [
    "# Incorporate the other graph properties\n",
    "# Save the figure\n",
    "# Show plot\n",
    "plot_lat = weather_df[\"Latitude\"]\n",
    "plot_temp = weather_df[\"Max Temp\"]\n",
    "\n",
    "plt.scatter(plot_lat,plot_temp)\n",
    "plt.title('City Latitude vs. Max Temperature')\n",
    "plt.xlabel('Latitude')\n",
    "plt.ylabel('Temperature (F)')\n",
    "plt.savefig('plot_latitude_vs_temp')\n",
    "plt.show()\n",
    "\n",
    "#This code is analyzing the max temperature of each city and latitude."
   ]
  },
  {
   "cell_type": "markdown",
   "metadata": {},
   "source": [
    "## Latitude vs. Humidity Plot"
   ]
  },
  {
   "cell_type": "code",
   "execution_count": 12,
   "metadata": {},
   "outputs": [
    {
     "data": {
      "image/png": "[encoded data removed]",
      "text/plain": [
       "<Figure size 432x288 with 1 Axes>"
      ]
     },
     "metadata": {
      "needs_background": "light"
     },
     "output_type": "display_data"
    }
   ],
   "source": [
    "plot_humidity = weather_df[\"Humidity\"]\n",
    "\n",
    "plt.scatter(plot_lat,plot_humidity)\n",
    "plt.title('City Latitude vs. Humidity')\n",
    "plt.xlabel('Latitude')\n",
    "plt.ylabel('Humidity (%)')\n",
    "plt.savefig('plot_latitude_vs_humidity')\n",
    "plt.show()"
   ]
  },
  {
   "cell_type": "markdown",
   "metadata": {},
   "source": [
    "## Latitude vs. Cloudiness Plot"
   ]
  },
  {
   "cell_type": "code",
   "execution_count": 13,
   "metadata": {},
   "outputs": [
    {
     "data": {
      "image/png": "[encoded data removed]",
      "text/plain": [
       "<Figure size 432x288 with 1 Axes>"
      ]
     },
     "metadata": {
      "needs_background": "light"
     },
     "output_type": "display_data"
    }
   ],
   "source": [
    "plot_cloudiness = weather_df[\"Cloudiness\"]\n",
    "\n",
    "plt.scatter(plot_lat,plot_cloudiness)\n",
    "plt.title('City Latitude vs. Cloudiness')\n",
    "plt.xlabel('Latitude')\n",
    "plt.ylabel('Cloudiness (%)')\n",
    "plt.savefig('plot_latitude_vs_cloudiness')\n",
    "plt.show()"
   ]
  },
  {
   "cell_type": "markdown",
   "metadata": {},
   "source": [
    "## Latitude vs. Wind Speed Plot"
   ]
  },
  {
   "cell_type": "code",
   "execution_count": 14,
   "metadata": {},
   "outputs": [
    {
     "data": {
      "image/png": "[encoded data removed]",
      "text/plain": [
       "<Figure size 432x288 with 1 Axes>"
      ]
     },
     "metadata": {
      "needs_background": "light"
     },
     "output_type": "display_data"
    }
   ],
   "source": [
    "wind_speed = weather_df[\"Wind Speed\"]\n",
    "\n",
    "plt.scatter(plot_lat,wind_speed)\n",
    "plt.title('Latitude vs. Wind Speed')\n",
    "plt.xlabel('Latitude')\n",
    "plt.ylabel('Wind Speed (mph)')\n",
    "plt.savefig('plot_latitude_vs_windspeed')\n",
    "plt.show()"
   ]
  },
  {
   "cell_type": "markdown",
   "metadata": {},
   "source": [
    "## Linear Regression"
   ]
  },
  {
   "cell_type": "code",
   "execution_count": 15,
   "metadata": {},
   "outputs": [],
   "source": [
    " def plot_linear_regression(x_values, y_values, title, text_coordinates):\n",
    "    (slope, intercept, rvalue, pvalue, stderr) = linregress(x_values, y_values)\n",
    "    regress_values = x_values * slope + intercept\n",
    "    line_eq = \"y = \" + str(round(slope,2)) + \"x + \" + str(round(intercept,2))\n",
    "    \n",
    "    plt.scatter(x_values,y_values)\n",
    "    plt.plot(x_values,regress_values,\"r-\")\n",
    "    plt.annotate(line_eq,text_coordinates,fontsize=14,color=\"red\")\n",
    "    plt.xlabel(\"Latitude\")\n",
    "    plt.ylabel(title)\n",
    "    print(f\"The r-squared is: {rvalue}\")\n",
    "    plt.show()"
   ]
  },
  {
   "cell_type": "code",
   "execution_count": 16,
   "metadata": {},
   "outputs": [
    {
     "data": {
      "text/html": [
       "<div>\n",
       "<style scoped>\n",
       "    .dataframe tbody tr th:only-of-type {\n",
       "        vertical-align: middle;\n",
       "    }\n",
       "\n",
       "    .dataframe tbody tr th {\n",
       "        vertical-align: top;\n",
       "    }\n",
       "\n",
       "    .dataframe thead th {\n",
       "        text-align: right;\n",
       "    }\n",
       "</style>\n",
       "<table border=\"1\" class=\"dataframe\">\n",
       "  <thead>\n",
       "    <tr style=\"text-align: right;\">\n",
       "      <th></th>\n",
       "      <th>City</th>\n",
       "      <th>Latitude</th>\n",
       "      <th>Longitude</th>\n",
       "      <th>Max Temp</th>\n",
       "      <th>Humidity</th>\n",
       "      <th>Cloudiness</th>\n",
       "      <th>Wind Speed</th>\n",
       "      <th>Country</th>\n",
       "      <th>Date</th>\n",
       "    </tr>\n",
       "  </thead>\n",
       "  <tbody>\n",
       "    <tr>\n",
       "      <th>0</th>\n",
       "      <td>El Batey</td>\n",
       "      <td>19.7667</td>\n",
       "      <td>-70.5167</td>\n",
       "      <td>76.05</td>\n",
       "      <td>83</td>\n",
       "      <td>39</td>\n",
       "      <td>10.67</td>\n",
       "      <td>DO</td>\n",
       "      <td>1613271600</td>\n",
       "    </tr>\n",
       "    <tr>\n",
       "      <th>2</th>\n",
       "      <td>Tygda</td>\n",
       "      <td>53.1167</td>\n",
       "      <td>126.3333</td>\n",
       "      <td>-4.07</td>\n",
       "      <td>89</td>\n",
       "      <td>90</td>\n",
       "      <td>7.58</td>\n",
       "      <td>RU</td>\n",
       "      <td>1613271600</td>\n",
       "    </tr>\n",
       "    <tr>\n",
       "      <th>4</th>\n",
       "      <td>Bandarbeyla</td>\n",
       "      <td>9.4942</td>\n",
       "      <td>50.8122</td>\n",
       "      <td>72.46</td>\n",
       "      <td>77</td>\n",
       "      <td>27</td>\n",
       "      <td>10.92</td>\n",
       "      <td>SO</td>\n",
       "      <td>1613271600</td>\n",
       "    </tr>\n",
       "    <tr>\n",
       "      <th>5</th>\n",
       "      <td>Qaanaaq</td>\n",
       "      <td>77.4840</td>\n",
       "      <td>-69.3632</td>\n",
       "      <td>8.62</td>\n",
       "      <td>77</td>\n",
       "      <td>0</td>\n",
       "      <td>5.68</td>\n",
       "      <td>GL</td>\n",
       "      <td>1613271600</td>\n",
       "    </tr>\n",
       "    <tr>\n",
       "      <th>6</th>\n",
       "      <td>Skeldon</td>\n",
       "      <td>5.8833</td>\n",
       "      <td>-57.1333</td>\n",
       "      <td>76.28</td>\n",
       "      <td>89</td>\n",
       "      <td>51</td>\n",
       "      <td>7.87</td>\n",
       "      <td>GY</td>\n",
       "      <td>1613271600</td>\n",
       "    </tr>\n",
       "  </tbody>\n",
       "</table>\n",
       "</div>"
      ],
      "text/plain": [
       "          City  Latitude  Longitude  Max Temp  Humidity  Cloudiness  \\\n",
       "0     El Batey   19.7667   -70.5167     76.05        83          39   \n",
       "2        Tygda   53.1167   126.3333     -4.07        89          90   \n",
       "4  Bandarbeyla    9.4942    50.8122     72.46        77          27   \n",
       "5      Qaanaaq   77.4840   -69.3632      8.62        77           0   \n",
       "6      Skeldon    5.8833   -57.1333     76.28        89          51   \n",
       "\n",
       "   Wind Speed Country        Date  \n",
       "0       10.67      DO  1613271600  \n",
       "2        7.58      RU  1613271600  \n",
       "4       10.92      SO  1613271600  \n",
       "5        5.68      GL  1613271600  \n",
       "6        7.87      GY  1613271600  "
      ]
     },
     "execution_count": 16,
     "metadata": {},
     "output_type": "execute_result"
    }
   ],
   "source": [
    "northlat_df = weather_df.loc[weather_df[\"Latitude\"] >= 0,:]\n",
    "southlat_df = weather_df.loc[weather_df[\"Latitude\"] < 0,:]\n",
    "\n",
    "northlat_df.head()"
   ]
  },
  {
   "cell_type": "markdown",
   "metadata": {},
   "source": [
    "####  Northern Hemisphere - Max Temp vs. Latitude Linear Regression"
   ]
  },
  {
   "cell_type": "code",
   "execution_count": 17,
   "metadata": {},
   "outputs": [
    {
     "name": "stdout",
     "output_type": "stream",
     "text": [
      "The r-squared is: -0.8702134867232262\n"
     ]
    },
    {
     "data": {
      "image/png": "[encoded data removed]",
      "text/plain": [
       "<Figure size 432x288 with 1 Axes>"
      ]
     },
     "metadata": {
      "needs_background": "light"
     },
     "output_type": "display_data"
    },
    {
     "data": {
      "text/plain": [
       "<Figure size 432x288 with 0 Axes>"
      ]
     },
     "metadata": {},
     "output_type": "display_data"
    }
   ],
   "source": [
    "x_values = northlat_df[\"Latitude\"]\n",
    "y_values = northlat_df[\"Max Temp\"]\n",
    "plot_linear_regression(x_values,y_values,'Max Temp',(6,30))\n",
    "\n",
    "plt.savefig('northernhemisphere_temp_lat')"
   ]
  },
  {
   "cell_type": "markdown",
   "metadata": {},
   "source": [
    "####  Southern Hemisphere - Max Temp vs. Latitude Linear Regression"
   ]
  },
  {
   "cell_type": "code",
   "execution_count": 18,
   "metadata": {},
   "outputs": [
    {
     "name": "stdout",
     "output_type": "stream",
     "text": [
      "The r-squared is: 0.49261439673350016\n"
     ]
    },
    {
     "data": {
      "image/png": "[encoded data removed]",
      "text/plain": [
       "<Figure size 432x288 with 1 Axes>"
      ]
     },
     "metadata": {
      "needs_background": "light"
     },
     "output_type": "display_data"
    },
    {
     "data": {
      "text/plain": [
       "<Figure size 432x288 with 0 Axes>"
      ]
     },
     "metadata": {},
     "output_type": "display_data"
    }
   ],
   "source": [
    "x_values = southlat_df[\"Latitude\"]\n",
    "y_values = southlat_df[\"Max Temp\"]\n",
    "plot_linear_regression(x_values,y_values,'Max Temp',(6,30))\n",
    "\n",
    "plt.savefig('southernhemisphere_temp_lat')\n",
    "\n"
   ]
  },
  {
   "cell_type": "markdown",
   "metadata": {},
   "source": [
    "####  Northern Hemisphere - Humidity (%) vs. Latitude Linear Regression"
   ]
  },
  {
   "cell_type": "code",
   "execution_count": 19,
   "metadata": {},
   "outputs": [
    {
     "name": "stdout",
     "output_type": "stream",
     "text": [
      "The r-squared is: 0.3807286023924303\n"
     ]
    },
    {
     "data": {
      "image/png": "[encoded data removed]",
      "text/plain": [
       "<Figure size 432x288 with 1 Axes>"
      ]
     },
     "metadata": {
      "needs_background": "light"
     },
     "output_type": "display_data"
    },
    {
     "data": {
      "text/plain": [
       "<Figure size 432x288 with 0 Axes>"
      ]
     },
     "metadata": {},
     "output_type": "display_data"
    }
   ],
   "source": [
    "x_values = northlat_df[\"Latitude\"]\n",
    "y_values = northlat_df[\"Humidity\"]\n",
    "plot_linear_regression(x_values,y_values,'Humidity',(6,30))\n",
    "\n",
    "plt.savefig('northernhemisphere_humidity_lat')"
   ]
  },
  {
   "cell_type": "markdown",
   "metadata": {},
   "source": [
    "####  Southern Hemisphere - Humidity (%) vs. Latitude Linear Regression"
   ]
  },
  {
   "cell_type": "code",
   "execution_count": 20,
   "metadata": {},
   "outputs": [
    {
     "name": "stdout",
     "output_type": "stream",
     "text": [
      "The r-squared is: 0.31121429341194823\n"
     ]
    },
    {
     "data": {
      "image/png": "[encoded data removed]",
      "text/plain": [
       "<Figure size 432x288 with 1 Axes>"
      ]
     },
     "metadata": {
      "needs_background": "light"
     },
     "output_type": "display_data"
    },
    {
     "data": {
      "text/plain": [
       "<Figure size 432x288 with 0 Axes>"
      ]
     },
     "metadata": {},
     "output_type": "display_data"
    }
   ],
   "source": [
    "x_values = southlat_df[\"Latitude\"]\n",
    "\n",
    "y_values = southlat_df[\"Humidity\"]\n",
    "plot_linear_regression(x_values,y_values,'Humidity',(6,30))\n",
    "\n",
    "plt.savefig('southernhemisphere_humidity_lat')"
   ]
  },
  {
   "cell_type": "markdown",
   "metadata": {},
   "source": [
    "####  Northern Hemisphere - Cloudiness (%) vs. Latitude Linear Regression"
   ]
  },
  {
   "cell_type": "code",
   "execution_count": 21,
   "metadata": {},
   "outputs": [
    {
     "name": "stdout",
     "output_type": "stream",
     "text": [
      "The r-squared is: 0.31060688610974124\n"
     ]
    },
    {
     "data": {
      "image/png": "[encoded data removed]",
      "text/plain": [
       "<Figure size 432x288 with 1 Axes>"
      ]
     },
     "metadata": {
      "needs_background": "light"
     },
     "output_type": "display_data"
    },
    {
     "data": {
      "text/plain": [
       "<Figure size 432x288 with 0 Axes>"
      ]
     },
     "metadata": {},
     "output_type": "display_data"
    }
   ],
   "source": [
    "x_values = northlat_df[\"Latitude\"]\n",
    "y_values = northlat_df[\"Cloudiness\"]\n",
    "plot_linear_regression(x_values,y_values,'Cloudiness',(6,30))\n",
    "\n",
    "plt.savefig('northernhemisphere_cloudiness_lat')"
   ]
  },
  {
   "cell_type": "markdown",
   "metadata": {},
   "source": [
    "####  Southern Hemisphere - Cloudiness (%) vs. Latitude Linear Regression"
   ]
  },
  {
   "cell_type": "code",
   "execution_count": 22,
   "metadata": {},
   "outputs": [
    {
     "name": "stdout",
     "output_type": "stream",
     "text": [
      "The r-squared is: 0.2936256937556308\n"
     ]
    },
    {
     "data": {
      "image/png": "[encoded data removed]",
      "text/plain": [
       "<Figure size 432x288 with 1 Axes>"
      ]
     },
     "metadata": {
      "needs_background": "light"
     },
     "output_type": "display_data"
    },
    {
     "data": {
      "text/plain": [
       "<Figure size 432x288 with 0 Axes>"
      ]
     },
     "metadata": {},
     "output_type": "display_data"
    }
   ],
   "source": [
    "x_values = southlat_df[\"Latitude\"]\n",
    "y_values = southlat_df[\"Cloudiness\"]\n",
    "plot_linear_regression(x_values,y_values,'Cloudiness',(6,30))\n",
    "\n",
    "plt.savefig('southernhemisphere_cloudiness_lat')\n",
    "\n"
   ]
  },
  {
   "cell_type": "markdown",
   "metadata": {},
   "source": [
    "####  Northern Hemisphere - Wind Speed (mph) vs. Latitude Linear Regression"
   ]
  },
  {
   "cell_type": "code",
   "execution_count": 23,
   "metadata": {},
   "outputs": [
    {
     "name": "stdout",
     "output_type": "stream",
     "text": [
      "The r-squared is: 0.0700546897580067\n"
     ]
    },
    {
     "data": {
      "image/png": "[encoded data removed]",
      "text/plain": [
       "<Figure size 432x288 with 1 Axes>"
      ]
     },
     "metadata": {
      "needs_background": "light"
     },
     "output_type": "display_data"
    },
    {
     "data": {
      "text/plain": [
       "<Figure size 432x288 with 0 Axes>"
      ]
     },
     "metadata": {},
     "output_type": "display_data"
    }
   ],
   "source": [
    "x_values = northlat_df[\"Latitude\"]\n",
    "y_values = northlat_df[\"Wind Speed\"]\n",
    "plot_linear_regression(x_values,y_values,'Wind Speed',(6,30))\n",
    "\n",
    "plt.savefig('northernhemisphere_windspeed_lat')"
   ]
  },
  {
   "cell_type": "markdown",
   "metadata": {},
   "source": [
    "####  Southern Hemisphere - Wind Speed (mph) vs. Latitude Linear Regression"
   ]
  },
  {
   "cell_type": "code",
   "execution_count": 24,
   "metadata": {},
   "outputs": [
    {
     "name": "stdout",
     "output_type": "stream",
     "text": [
      "The r-squared is: -0.17565925776666416\n"
     ]
    },
    {
     "data": {
      "image/png": "[encoded data removed]",
      "text/plain": [
       "<Figure size 432x288 with 1 Axes>"
      ]
     },
     "metadata": {
      "needs_background": "light"
     },
     "output_type": "display_data"
    },
    {
     "data": {
      "text/plain": [
       "<Figure size 432x288 with 0 Axes>"
      ]
     },
     "metadata": {},
     "output_type": "display_data"
    }
   ],
   "source": [
    "x_values = southlat_df[\"Latitude\"]\n",
    "y_values = southlat_df[\"Wind Speed\"]\n",
    "plot_linear_regression(x_values,y_values,'Wind Speed',(6,30))\n",
    "\n",
    "plt.savefig('southernhemisphere_windspeed_lat')\n",
    "\n"
   ]
  },
  {
   "cell_type": "code",
   "execution_count": null,
   "metadata": {},
   "outputs": [],
   "source": []
  }
 ],
 "metadata": {
  "anaconda-cloud": {},
  "kernel_info": {
   "name": "python3"
  },
  "kernelspec": {
   "display_name": "Python 3",
   "language": "python",
   "name": "python3"
  },
  "language_info": {
   "codemirror_mode": {
    "name": "ipython",
    "version": 3
   },
   "file_extension": ".py",
   "mimetype": "text/x-python",
   "name": "python",
   "nbconvert_exporter": "python",
   "pygments_lexer": "ipython3",
   "version": "3.6.10"
  },
  "latex_envs": {
   "LaTeX_envs_menu_present": true,
   "autoclose": false,
   "autocomplete": true,
   "bibliofile": "biblio.bib",
   "cite_by": "apalike",
   "current_citInitial": 1,
   "eqLabelWithNumbers": true,
   "eqNumInitial": 1,
   "hotkeys": {
    "equation": "Ctrl-E",
    "itemize": "Ctrl-I"
   },
   "labels_anchors": false,
   "latex_user_defs": false,
   "report_style_numbering": false,
   "user_envs_cfg": false
  },
  "nteract": {
   "version": "0.12.3"
  }
 },
 "nbformat": 4,
 "nbformat_minor": 2
}
